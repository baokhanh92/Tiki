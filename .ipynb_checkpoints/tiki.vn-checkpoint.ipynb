{
 "cells": [
  {
   "cell_type": "code",
   "execution_count": 1,
   "metadata": {},
   "outputs": [],
   "source": [
    "# 1st problem\n",
    "import requests\n",
    "try:\n",
    "    BASE_URL = 'https://tiki.vn/dien-thoai-may-tinh-bang/c1789?src=c.1789.hamburger_menu_fly_out_banner'\n",
    "    response = requests.get(BASE_URL)\n",
    "except Exception as err:\n",
    "    print(f'ERROR: {err}')"
   ]
  },
  {
   "cell_type": "code",
   "execution_count": 2,
   "metadata": {},
   "outputs": [
    {
     "name": "stdout",
     "output_type": "stream",
     "text": [
      "<!DOCTYPE html>\n",
      "<html class=\"no-js\" lang=\"\">\n",
      " <head>\n",
      "  <style>\n",
      "   html { background: #f4f4f4; } .async-hide body { opacity: 0 !important}\n",
      "  </style>\n",
      "  <script>\n",
      "   (function(a,s,y,n,c,h,i,d,e){s.className+=' '+y;h.start=1*new Date;\n",
      "    h.end=i=function(){s.className=s.className.replace(RegExp(' ?'+y),'')};\n",
      "    (a[n]=a[n]||[]).hide=h;setTimeout(function(){i();h.end=null},c);h.timeout=c;\n",
      "    })(window,document.documentElement,'async-hide','dataLayer',1500,\n",
      "    {'GTM-53B3KKW':true});\n",
      "  </script>\n",
      "  <\n"
     ]
    }
   ],
   "source": [
    "from bs4 import BeautifulSoup\n",
    "\n",
    "soup = BeautifulSoup(response.text)\n",
    "print(soup.prettify()[:500])"
   ]
  },
  {
   "cell_type": "code",
   "execution_count": null,
   "metadata": {},
   "outputs": [],
   "source": [
    "response.status_code\n",
    "articles = [] \n",
    "for i in range(1,50): \n",
    "    URL = f\"https://tiki.vn/nha-cua-doi-song/c1883?src=c.1883.hamburger_menu_fly_out_banner={i}\"     \n",
    "    soup = BeautifulSoup(response.text)     \n",
    "    articles.extend(soup.find_all('div', {\"class\" : \"product-item\"})) \n",
    "len(articles)"
   ]
  },
  {
   "cell_type": "code",
   "execution_count": null,
   "metadata": {},
   "outputs": [],
   "source": [
    "articles = soup.find_all('div', class_='product-item')\n",
    "len(articles)"
   ]
  },
  {
   "cell_type": "code",
   "execution_count": null,
   "metadata": {},
   "outputs": [],
   "source": [
    "articles[0]"
   ]
  },
  {
   "cell_type": "code",
   "execution_count": null,
   "metadata": {},
   "outputs": [],
   "source": [
    "articles[0].find_all('p', class_='title')[0].text.strip()"
   ]
  },
  {
   "cell_type": "code",
   "execution_count": null,
   "metadata": {},
   "outputs": [],
   "source": [
    "titles, images, fprice, category, num_reviews, ratings, tikinow, seller, rprice, discount = [], [], [], [], [], [], [], [], [], []\n",
    "for i in range(len(articles)):\n",
    "    try:\n",
    "        images.append(articles[i].img['src'])\n",
    "        fprice.append(articles[i].find_all(\"span\",{\"class\":\"final-price\"})[0].text.strip().split()[0])\n",
    "        rprice.append(articles[i].find_all(\"span\",{\"class\":\"price-regular\"})[0].text)\n",
    "        discount.append(['None' if len(articles[i].find_all(\"span\",{\"class\":\"final-price\"})[0].text.strip().split()) == 1 else articles[i].find_all(\"span\",{\"class\":\"final-price\"})[0].text.strip().split()[1]][0])\n",
    "        titles.append(articles[i].a['title'].strip())\n",
    "        seller.append(articles[i]['data-brand'])\n",
    "        category.append(articles[i]['data-category'].strip())\n",
    "        num_reviews.append([articles[i].find_all('p',{\"class\":'review'})[0].text.strip('\\(\\)') if articles[i].find_all('p',{\"class\":'review'}) != [] else 'Chưa có nhận xét'][0])\n",
    "        ratings.append([articles[i].find_all('span',{\"class\":'rating-content'})[0].find('span')['style'].split(':')[1] if articles[i].find_all('span',{\"class\":'rating-content'}) != [] else 'Rating not available'][0])\n",
    "        tikinow.append(['NO' if articles[i].find_all('i',{\"class\":\"tikicon icon-tikinow-20\"}) == [] else 'YES'][0])\n",
    "    except Exception as err:\n",
    "        print(err,i,sep=' ')"
   ]
  },
  {
   "cell_type": "code",
   "execution_count": null,
   "metadata": {},
   "outputs": [],
   "source": [
    "import json\n",
    "\n",
    "d = list(zip(titles, images, fprice, category, num_reviews, ratings, tikinow))\n",
    "\n",
    "with open('articles.json', 'w') as file:\n",
    "    json.dump(d, file)"
   ]
  },
  {
   "cell_type": "code",
   "execution_count": null,
   "metadata": {},
   "outputs": [],
   "source": [
    "with open('articles.json', 'r') as file:\n",
    "    reloaded = json.load(file)\n",
    "reloaded"
   ]
  },
  {
   "cell_type": "code",
   "execution_count": null,
   "metadata": {},
   "outputs": [],
   "source": []
  }
 ],
 "metadata": {
  "kernelspec": {
   "display_name": "Python 3",
   "language": "python",
   "name": "python3"
  },
  "language_info": {
   "codemirror_mode": {
    "name": "ipython",
    "version": 3
   },
   "file_extension": ".py",
   "mimetype": "text/x-python",
   "name": "python",
   "nbconvert_exporter": "python",
   "pygments_lexer": "ipython3",
   "version": "3.7.3"
  }
 },
 "nbformat": 4,
 "nbformat_minor": 2
}
